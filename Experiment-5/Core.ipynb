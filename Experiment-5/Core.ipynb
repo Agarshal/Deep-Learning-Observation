{
 "cells": [
  {
   "cell_type": "code",
   "execution_count": null,
   "id": "c50e009b-b567-4d10-8bd0-0b66d9ffbd54",
   "metadata": {},
   "outputs": [
    {
     "name": "stdout",
     "output_type": "stream",
     "text": [
      "Downloading data from https://storage.googleapis.com/tensorflow/tf-keras-datasets/imdb.npz\n",
      "\u001b[1m17464789/17464789\u001b[0m \u001b[32m━━━━━━━━━━━━━━━━━━━━\u001b[0m\u001b[37m\u001b[0m \u001b[1m2s\u001b[0m 0us/step\n",
      "Epoch 1/5\n"
     ]
    },
    {
     "name": "stderr",
     "output_type": "stream",
     "text": [
      "C:\\Users\\CSE-DEPT\\anaconda3\\New folder\\Lib\\site-packages\\keras\\src\\layers\\core\\embedding.py:97: UserWarning: Argument `input_length` is deprecated. Just remove it.\n",
      "  warnings.warn(\n"
     ]
    },
    {
     "name": "stdout",
     "output_type": "stream",
     "text": [
      "\u001b[1m313/313\u001b[0m \u001b[32m━━━━━━━━━━━━━━━━━━━━\u001b[0m\u001b[37m\u001b[0m \u001b[1m23s\u001b[0m 69ms/step - accuracy: 0.7646 - loss: 0.4647 - val_accuracy: 0.8388 - val_loss: 0.3850\n",
      "Epoch 2/5\n",
      "\u001b[1m313/313\u001b[0m \u001b[32m━━━━━━━━━━━━━━━━━━━━\u001b[0m\u001b[37m\u001b[0m \u001b[1m40s\u001b[0m 67ms/step - accuracy: 0.8889 - loss: 0.2773 - val_accuracy: 0.8450 - val_loss: 0.3523\n",
      "Epoch 3/5\n"
     ]
    }
   ],
   "source": [
    "from keras.datasets import imdb \n",
    "from keras.models import Sequential \n",
    "from keras.layers import Embedding, LSTM, Dense \n",
    "from keras.preprocessing.sequence import pad_sequences \n",
    "# Load dataset \n",
    "(X_train, y_train), (X_test, y_test) = imdb.load_data(num_words=10000) \n",
    "X_train = pad_sequences(X_train, maxlen=100) \n",
    "X_test = pad_sequences(X_test, maxlen=100) \n",
    "# Model \n",
    "model = Sequential([ \n",
    "Embedding(10000, 32, input_length=100), \n",
    "LSTM(100), \n",
    "Dense(1, activation='sigmoid') \n",
    "]) \n",
    "model.compile(loss='binary_crossentropy', optimizer='adam', metrics=['accuracy']) \n",
    "model.fit(X_train, y_train, epochs=5, batch_size=64, validation_split=0.2)"
   ]
  },
  {
   "cell_type": "code",
   "execution_count": null,
   "id": "ad0a5eba-4b87-4757-8787-305ee772212f",
   "metadata": {},
   "outputs": [],
   "source": []
  }
 ],
 "metadata": {
  "kernelspec": {
   "display_name": "Python 3 (ipykernel)",
   "language": "python",
   "name": "python3"
  },
  "language_info": {
   "codemirror_mode": {
    "name": "ipython",
    "version": 3
   },
   "file_extension": ".py",
   "mimetype": "text/x-python",
   "name": "python",
   "nbconvert_exporter": "python",
   "pygments_lexer": "ipython3",
   "version": "3.12.7"
  }
 },
 "nbformat": 4,
 "nbformat_minor": 5
}
